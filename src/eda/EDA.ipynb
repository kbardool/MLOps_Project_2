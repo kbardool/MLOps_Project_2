{
 "cells": [
  {
   "cell_type": "markdown",
   "id": "96d3cbac",
   "metadata": {},
   "source": [
    "# Exploratory Data Analysis for the NYC AirBNB Project\n",
    "\n",
    "## Contents\n",
    "\n",
    "    * A\n",
    "    - B \n",
    "    - c"
   ]
  },
  {
   "cell_type": "code",
   "execution_count": 5,
   "id": "cf13dee3",
   "metadata": {
    "ExecuteTime": {
     "end_time": "2022-02-27T04:56:42.888793Z",
     "start_time": "2022-02-27T04:56:42.882504Z"
    }
   },
   "outputs": [
    {
     "name": "stdout",
     "output_type": "stream",
     "text": [
      "env: \"WANDB_NOTEBOOK_NAME\"=\"EDA\"\n"
     ]
    }
   ],
   "source": [
    "%env \"WANDB_NOTEBOOK_NAME\" \"EDA\""
   ]
  },
  {
   "cell_type": "code",
   "execution_count": 7,
   "id": "5f573e51",
   "metadata": {
    "ExecuteTime": {
     "end_time": "2022-02-27T04:57:49.396798Z",
     "start_time": "2022-02-27T04:57:49.376728Z"
    }
   },
   "outputs": [
    {
     "ename": "ModuleNotFoundError",
     "evalue": "No module named 'pandas_profiling'",
     "output_type": "error",
     "traceback": [
      "\u001b[0;31m---------------------------------------------------------------------------\u001b[0m",
      "\u001b[0;31mModuleNotFoundError\u001b[0m                       Traceback (most recent call last)",
      "Input \u001b[0;32mIn [7]\u001b[0m, in \u001b[0;36m<module>\u001b[0;34m\u001b[0m\n\u001b[1;32m      2\u001b[0m \u001b[38;5;28;01mimport\u001b[39;00m \u001b[38;5;21;01mwandb\u001b[39;00m\n\u001b[1;32m      3\u001b[0m \u001b[38;5;28;01mimport\u001b[39;00m \u001b[38;5;21;01mpandas\u001b[39;00m \u001b[38;5;28;01mas\u001b[39;00m \u001b[38;5;21;01mpd\u001b[39;00m\n\u001b[0;32m----> 4\u001b[0m \u001b[38;5;28;01mimport\u001b[39;00m \u001b[38;5;21;01mpandas_profiling\u001b[39;00m\n\u001b[1;32m      5\u001b[0m \u001b[38;5;28;01mimport\u001b[39;00m \u001b[38;5;21;01mmatplotlib\u001b[39;00m\u001b[38;5;21;01m.\u001b[39;00m\u001b[38;5;21;01mpyplot\u001b[39;00m \u001b[38;5;28;01mas\u001b[39;00m \u001b[38;5;21;01mplt\u001b[39;00m\n",
      "\u001b[0;31mModuleNotFoundError\u001b[0m: No module named 'pandas_profiling'"
     ]
    }
   ],
   "source": [
    "import os \n",
    "import wandb\n",
    "import pandas as pd\n",
    "import pandas_profiling\n",
    "import matplotlib.pyplot as plt\n",
    "# os.environ[\"WANDB_PROJECT\"] = \"EDA\""
   ]
  },
  {
   "cell_type": "code",
   "execution_count": 3,
   "id": "cf4c2c71",
   "metadata": {
    "ExecuteTime": {
     "end_time": "2022-02-14T22:57:00.001120Z",
     "start_time": "2022-02-14T22:56:52.757284Z"
    }
   },
   "outputs": [
    {
     "name": "stderr",
     "output_type": "stream",
     "text": [
      "Failed to detect the name of this notebook, you can set it manually with the WANDB_NOTEBOOK_NAME environment variable to enable code saving.\n",
      "\u001b[34m\u001b[1mwandb\u001b[0m: Currently logged in as: \u001b[33mkbardool\u001b[0m (use `wandb login --relogin` to force relogin)\n",
      "\u001b[34m\u001b[1mwandb\u001b[0m: wandb version 0.12.10 is available!  To upgrade, please run:\n",
      "\u001b[34m\u001b[1mwandb\u001b[0m:  $ pip install wandb --upgrade\n"
     ]
    },
    {
     "data": {
      "text/html": [
       "\n",
       "                Tracking run with wandb version 0.10.31<br/>\n",
       "                Syncing run <strong style=\"color:#cdcd00\">tempting-tulip-25</strong> to <a href=\"https://wandb.ai\" target=\"_blank\">Weights & Biases</a> <a href=\"https://docs.wandb.com/integrations/jupyter.html\" target=\"_blank\">(Documentation)</a>.<br/>\n",
       "                Project page: <a href=\"https://wandb.ai/kbardool/nyc_airbnb\" target=\"_blank\">https://wandb.ai/kbardool/nyc_airbnb</a><br/>\n",
       "                Run page: <a href=\"https://wandb.ai/kbardool/nyc_airbnb/runs/3u36egwk\" target=\"_blank\">https://wandb.ai/kbardool/nyc_airbnb/runs/3u36egwk</a><br/>\n",
       "                Run data is saved locally in <code>/home/kbardool/git-local/mlops/p2/src/eda/wandb/run-20220214_145653-3u36egwk</code><br/><br/>\n",
       "            "
      ],
      "text/plain": [
       "<IPython.core.display.HTML object>"
      ]
     },
     "metadata": {},
     "output_type": "display_data"
    }
   ],
   "source": [
    "run = wandb.init(project=\"nyc_airbnb\", group=\"eda\", save_code=True)\n",
    "local_path = wandb.use_artifact(\"sample.csv:latest\").file()\n",
    "df = pd.read_csv(local_path)"
   ]
  },
  {
   "cell_type": "markdown",
   "id": "f1f0f1a3",
   "metadata": {},
   "source": [
    "## Profile the dataset using Pandas Profiling"
   ]
  },
  {
   "cell_type": "code",
   "execution_count": 4,
   "id": "2cb03d4f",
   "metadata": {
    "ExecuteTime": {
     "end_time": "2022-02-13T01:56:22.055603Z",
     "start_time": "2022-02-13T01:55:17.070368Z"
    }
   },
   "outputs": [
    {
     "data": {
      "application/vnd.jupyter.widget-view+json": {
       "model_id": "fd1d5433b76c4d1f922f4f5e2df364c4",
       "version_major": 2,
       "version_minor": 0
      },
      "text/plain": [
       "Summarize dataset:   0%|          | 0/29 [00:00<?, ?it/s]"
      ]
     },
     "metadata": {},
     "output_type": "display_data"
    },
    {
     "data": {
      "application/vnd.jupyter.widget-view+json": {
       "model_id": "ef5455cb8d71456f8f36d69b5a3150ff",
       "version_major": 2,
       "version_minor": 0
      },
      "text/plain": [
       "Generate report structure:   0%|          | 0/1 [00:00<?, ?it/s]"
      ]
     },
     "metadata": {},
     "output_type": "display_data"
    },
    {
     "data": {
      "application/vnd.jupyter.widget-view+json": {
       "model_id": "",
       "version_major": 2,
       "version_minor": 0
      },
      "text/plain": [
       "Render widgets:   0%|          | 0/1 [00:00<?, ?it/s]"
      ]
     },
     "metadata": {},
     "output_type": "display_data"
    },
    {
     "data": {
      "application/vnd.jupyter.widget-view+json": {
       "model_id": "ca93a0204ad2424b882a9f7738759ee2",
       "version_major": 2,
       "version_minor": 0
      },
      "text/plain": [
       "VBox(children=(Tab(children=(Tab(children=(GridBox(children=(VBox(children=(GridspecLayout(children=(HTML(valu…"
      ]
     },
     "metadata": {},
     "output_type": "display_data"
    },
    {
     "name": "stderr",
     "output_type": "stream",
     "text": [
      "wandb: Network error (ReadTimeout), entering retry loop.\n",
      "\u001b[34m\u001b[1mwandb\u001b[0m: Network error resolved after 0:00:40.844376, resuming normal operation.\n"
     ]
    }
   ],
   "source": [
    "profile= pandas_profiling.ProfileReport(df)\n",
    "profile.to_widgets()"
   ]
  },
  {
   "cell_type": "code",
   "execution_count": 4,
   "id": "1442657e",
   "metadata": {
    "ExecuteTime": {
     "end_time": "2022-02-14T22:57:00.192485Z",
     "start_time": "2022-02-14T22:57:00.133439Z"
    }
   },
   "outputs": [
    {
     "name": "stdout",
     "output_type": "stream",
     "text": [
      "<class 'pandas.core.frame.DataFrame'>\n",
      "RangeIndex: 20000 entries, 0 to 19999\n",
      "Data columns (total 16 columns):\n",
      " #   Column                          Non-Null Count  Dtype  \n",
      "---  ------                          --------------  -----  \n",
      " 0   id                              20000 non-null  int64  \n",
      " 1   name                            19993 non-null  object \n",
      " 2   host_id                         20000 non-null  int64  \n",
      " 3   host_name                       19992 non-null  object \n",
      " 4   neighbourhood_group             20000 non-null  object \n",
      " 5   neighbourhood                   20000 non-null  object \n",
      " 6   latitude                        20000 non-null  float64\n",
      " 7   longitude                       20000 non-null  float64\n",
      " 8   room_type                       20000 non-null  object \n",
      " 9   price                           20000 non-null  int64  \n",
      " 10  minimum_nights                  20000 non-null  int64  \n",
      " 11  number_of_reviews               20000 non-null  int64  \n",
      " 12  last_review                     15877 non-null  object \n",
      " 13  reviews_per_month               15877 non-null  float64\n",
      " 14  calculated_host_listings_count  20000 non-null  int64  \n",
      " 15  availability_365                20000 non-null  int64  \n",
      "dtypes: float64(3), int64(7), object(6)\n",
      "memory usage: 2.4+ MB\n"
     ]
    }
   ],
   "source": [
    "df.info()"
   ]
  },
  {
   "cell_type": "markdown",
   "id": "8ba4eb62",
   "metadata": {},
   "source": [
    "## Analysis and Findings"
   ]
  },
  {
   "cell_type": "markdown",
   "id": "2df9de4b",
   "metadata": {},
   "source": [
    "- Profiling shows that last_reviews and reviews_per_month contains missing values\n",
    "\n",
    "\n",
    "\n",
    "- `neighbourhood_group` values are imbalanced , with two neigbourhoods (Manhattan and Brooklyn) consisting of more than %85 of the total data rows, Bronx and Staten Island covering less than %3 of the data.  While this is a string/text field, the low cardinality makes this an obvious candidate for conversion to categorical / one hot field. \n",
    "\n",
    "\n",
    "\n",
    "- `neighbourhood` is a string / text field and has a high cardinality level. This field is a likely candidate for NLP pre-proc0essing\n",
    "\n",
    "\n",
    "\n",
    "- `last_review` and `reviews_per_month` have missing values (%21 of values are missing)\n",
    "\n",
    "- There is a one-to-one correspondence between missing values of `last_review` and `reviews_per_month`\n",
    "\n",
    "\n",
    "\n",
    "- `price` Is the target field of our proposed model. The price values distribution has very high skewness (> 18). A number of high value outliers contribute to this skewedness. It might be a good idea to investigate these outliers to see if the values are indeed accurate. Indeed, the project documentation states to only consider prices between $10 and $350.\n",
    "\n",
    "    It also has high kertosis, which makes sense as the majority of prices will be in a certain range . The 95 percentile is $350.\n",
    "    \n",
    "\n",
    "\n",
    "- Likewise, `minimum_nights` is highly skewed. Minimum night values of  400, 480, 999, and 1250 do seem invalid values.\n",
    " \n",
    "  It seems logical to remove these data points\n",
    "\n",
    "\n",
    "- `id`, `host_id`, and `host_name`are fields that can be dropped as they should not impact the property price\n"
   ]
  },
  {
   "cell_type": "markdown",
   "id": "56a95fcd",
   "metadata": {},
   "source": [
    "### Check for duplicate rows\n",
    "\n",
    "We find the dataset does not contain duplicate rows"
   ]
  },
  {
   "cell_type": "code",
   "execution_count": 5,
   "id": "421ea155",
   "metadata": {
    "ExecuteTime": {
     "end_time": "2022-02-14T22:57:03.782942Z",
     "start_time": "2022-02-14T22:57:03.729027Z"
    }
   },
   "outputs": [
    {
     "data": {
      "text/plain": [
       "0"
      ]
     },
     "execution_count": 5,
     "metadata": {},
     "output_type": "execute_result"
    }
   ],
   "source": [
    "df.duplicated().sum()"
   ]
  },
  {
   "cell_type": "markdown",
   "id": "0ec15189",
   "metadata": {},
   "source": [
    "### Price Distribution Histogram"
   ]
  },
  {
   "cell_type": "code",
   "execution_count": 57,
   "id": "058ebef5",
   "metadata": {
    "ExecuteTime": {
     "end_time": "2022-02-13T17:51:07.839900Z",
     "start_time": "2022-02-13T17:51:07.437888Z"
    },
    "scrolled": true
   },
   "outputs": [
    {
     "name": "stdout",
     "output_type": "stream",
     "text": [
      " Number of datapoints with price > $350: 994\n"
     ]
    },
    {
     "data": {
      "image/png": "[encoded data removed]",
      "text/plain": [
       "<Figure size 1440x360 with 2 Axes>"
      ]
     },
     "metadata": {
      "needs_background": "light"
     },
     "output_type": "display_data"
    }
   ],
   "source": [
    "fig = plt.figure(figsize=(20,5)) \n",
    "# fig.subplots(1,2)\n",
    "ax = plt.subplot(1,2,1)\n",
    "df['price'].plot.hist(title = \"Price Distribution <= $350\", bins=50, range=(0, 1500), ax = ax);\n",
    "ax = plt.subplot(1,2,2)\n",
    "df['price'].plot.hist(title = \"Price Distribution $350 to max(price)\", bins=50, range=(1500, max(df['price'])), ax =ax);\n",
    "\n",
    "print(f\" Number of datapoints with price > $350: {(df['price'] > 350).sum()}\")\n"
   ]
  },
  {
   "cell_type": "code",
   "execution_count": 58,
   "id": "46c6e849",
   "metadata": {
    "ExecuteTime": {
     "end_time": "2022-02-13T17:51:22.663955Z",
     "start_time": "2022-02-13T17:51:22.629364Z"
    }
   },
   "outputs": [
    {
     "data": {
      "text/html": [
       "<div>\n",
       "<style scoped>\n",
       "    .dataframe tbody tr th:only-of-type {\n",
       "        vertical-align: middle;\n",
       "    }\n",
       "\n",
       "    .dataframe tbody tr th {\n",
       "        vertical-align: top;\n",
       "    }\n",
       "\n",
       "    .dataframe thead th {\n",
       "        text-align: right;\n",
       "    }\n",
       "</style>\n",
       "<table border=\"1\" class=\"dataframe\">\n",
       "  <thead>\n",
       "    <tr style=\"text-align: right;\">\n",
       "      <th></th>\n",
       "      <th>id</th>\n",
       "      <th>name</th>\n",
       "      <th>host_id</th>\n",
       "      <th>host_name</th>\n",
       "      <th>neighbourhood_group</th>\n",
       "      <th>neighbourhood</th>\n",
       "      <th>latitude</th>\n",
       "      <th>longitude</th>\n",
       "      <th>room_type</th>\n",
       "      <th>price</th>\n",
       "      <th>minimum_nights</th>\n",
       "      <th>number_of_reviews</th>\n",
       "      <th>last_review</th>\n",
       "      <th>reviews_per_month</th>\n",
       "      <th>calculated_host_listings_count</th>\n",
       "      <th>availability_365</th>\n",
       "    </tr>\n",
       "  </thead>\n",
       "  <tbody>\n",
       "    <tr>\n",
       "      <th>328</th>\n",
       "      <td>2952861</td>\n",
       "      <td>Photography Location</td>\n",
       "      <td>1177497</td>\n",
       "      <td>Jessica</td>\n",
       "      <td>Brooklyn</td>\n",
       "      <td>Clinton Hill</td>\n",
       "      <td>40.69127</td>\n",
       "      <td>-73.96563</td>\n",
       "      <td>Entire home/apt</td>\n",
       "      <td>4500</td>\n",
       "      <td>1</td>\n",
       "      <td>5</td>\n",
       "      <td>2018-12-29</td>\n",
       "      <td>0.09</td>\n",
       "      <td>11</td>\n",
       "      <td>365</td>\n",
       "    </tr>\n",
       "    <tr>\n",
       "      <th>1336</th>\n",
       "      <td>33007610</td>\n",
       "      <td>70' Luxury MotorYacht on the Hudson</td>\n",
       "      <td>7407743</td>\n",
       "      <td>Jack</td>\n",
       "      <td>Manhattan</td>\n",
       "      <td>Battery Park City</td>\n",
       "      <td>40.71162</td>\n",
       "      <td>-74.01693</td>\n",
       "      <td>Entire home/apt</td>\n",
       "      <td>7500</td>\n",
       "      <td>1</td>\n",
       "      <td>0</td>\n",
       "      <td>NaN</td>\n",
       "      <td>NaN</td>\n",
       "      <td>1</td>\n",
       "      <td>364</td>\n",
       "    </tr>\n",
       "    <tr>\n",
       "      <th>4459</th>\n",
       "      <td>30035166</td>\n",
       "      <td>4-Floor Unique Event Space 50P Cap. - #10299B</td>\n",
       "      <td>172611460</td>\n",
       "      <td>Rasmus</td>\n",
       "      <td>Manhattan</td>\n",
       "      <td>Harlem</td>\n",
       "      <td>40.82511</td>\n",
       "      <td>-73.94961</td>\n",
       "      <td>Entire home/apt</td>\n",
       "      <td>5000</td>\n",
       "      <td>1</td>\n",
       "      <td>2</td>\n",
       "      <td>2019-02-23</td>\n",
       "      <td>0.38</td>\n",
       "      <td>2</td>\n",
       "      <td>150</td>\n",
       "    </tr>\n",
       "    <tr>\n",
       "      <th>5218</th>\n",
       "      <td>2243699</td>\n",
       "      <td>SuperBowl Penthouse Loft 3,000 sqft</td>\n",
       "      <td>1483320</td>\n",
       "      <td>Omri</td>\n",
       "      <td>Manhattan</td>\n",
       "      <td>Little Italy</td>\n",
       "      <td>40.71895</td>\n",
       "      <td>-73.99793</td>\n",
       "      <td>Entire home/apt</td>\n",
       "      <td>5250</td>\n",
       "      <td>1</td>\n",
       "      <td>0</td>\n",
       "      <td>NaN</td>\n",
       "      <td>NaN</td>\n",
       "      <td>1</td>\n",
       "      <td>0</td>\n",
       "    </tr>\n",
       "    <tr>\n",
       "      <th>5764</th>\n",
       "      <td>35345358</td>\n",
       "      <td>Northside Williamsburg Stunner</td>\n",
       "      <td>956324</td>\n",
       "      <td>Alex</td>\n",
       "      <td>Brooklyn</td>\n",
       "      <td>Williamsburg</td>\n",
       "      <td>40.71705</td>\n",
       "      <td>-73.96470</td>\n",
       "      <td>Entire home/apt</td>\n",
       "      <td>4500</td>\n",
       "      <td>30</td>\n",
       "      <td>0</td>\n",
       "      <td>NaN</td>\n",
       "      <td>NaN</td>\n",
       "      <td>1</td>\n",
       "      <td>365</td>\n",
       "    </tr>\n",
       "    <tr>\n",
       "      <th>7679</th>\n",
       "      <td>33171891</td>\n",
       "      <td>30 days minimum Time square West Midtown apart...</td>\n",
       "      <td>177396569</td>\n",
       "      <td>Yanina</td>\n",
       "      <td>Manhattan</td>\n",
       "      <td>Hell's Kitchen</td>\n",
       "      <td>40.76043</td>\n",
       "      <td>-73.99132</td>\n",
       "      <td>Entire home/apt</td>\n",
       "      <td>4100</td>\n",
       "      <td>30</td>\n",
       "      <td>0</td>\n",
       "      <td>NaN</td>\n",
       "      <td>NaN</td>\n",
       "      <td>3</td>\n",
       "      <td>180</td>\n",
       "    </tr>\n",
       "    <tr>\n",
       "      <th>8388</th>\n",
       "      <td>22779726</td>\n",
       "      <td>East 72nd Townhouse by (Hidden by Airbnb)</td>\n",
       "      <td>156158778</td>\n",
       "      <td>Sally</td>\n",
       "      <td>Manhattan</td>\n",
       "      <td>Upper East Side</td>\n",
       "      <td>40.76824</td>\n",
       "      <td>-73.95989</td>\n",
       "      <td>Entire home/apt</td>\n",
       "      <td>7703</td>\n",
       "      <td>1</td>\n",
       "      <td>0</td>\n",
       "      <td>NaN</td>\n",
       "      <td>NaN</td>\n",
       "      <td>12</td>\n",
       "      <td>146</td>\n",
       "    </tr>\n",
       "    <tr>\n",
       "      <th>8568</th>\n",
       "      <td>23377410</td>\n",
       "      <td>Beautiful/Spacious 1 bed luxury flat-TriBeCa/Soho</td>\n",
       "      <td>18128455</td>\n",
       "      <td>Rum</td>\n",
       "      <td>Manhattan</td>\n",
       "      <td>Tribeca</td>\n",
       "      <td>40.72197</td>\n",
       "      <td>-74.00633</td>\n",
       "      <td>Entire home/apt</td>\n",
       "      <td>8500</td>\n",
       "      <td>30</td>\n",
       "      <td>2</td>\n",
       "      <td>2018-09-18</td>\n",
       "      <td>0.18</td>\n",
       "      <td>1</td>\n",
       "      <td>251</td>\n",
       "    </tr>\n",
       "    <tr>\n",
       "      <th>10024</th>\n",
       "      <td>22436899</td>\n",
       "      <td>1-BR Lincoln Center</td>\n",
       "      <td>72390391</td>\n",
       "      <td>Jelena</td>\n",
       "      <td>Manhattan</td>\n",
       "      <td>Upper West Side</td>\n",
       "      <td>40.77213</td>\n",
       "      <td>-73.98665</td>\n",
       "      <td>Entire home/apt</td>\n",
       "      <td>10000</td>\n",
       "      <td>30</td>\n",
       "      <td>0</td>\n",
       "      <td>NaN</td>\n",
       "      <td>NaN</td>\n",
       "      <td>1</td>\n",
       "      <td>83</td>\n",
       "    </tr>\n",
       "    <tr>\n",
       "      <th>12579</th>\n",
       "      <td>2271504</td>\n",
       "      <td>SUPER BOWL Brooklyn Duplex Apt!!</td>\n",
       "      <td>11598359</td>\n",
       "      <td>Jonathan</td>\n",
       "      <td>Brooklyn</td>\n",
       "      <td>Clinton Hill</td>\n",
       "      <td>40.68766</td>\n",
       "      <td>-73.96439</td>\n",
       "      <td>Entire home/apt</td>\n",
       "      <td>6500</td>\n",
       "      <td>1</td>\n",
       "      <td>0</td>\n",
       "      <td>NaN</td>\n",
       "      <td>NaN</td>\n",
       "      <td>1</td>\n",
       "      <td>0</td>\n",
       "    </tr>\n",
       "    <tr>\n",
       "      <th>14537</th>\n",
       "      <td>36056808</td>\n",
       "      <td>Luxury TriBeCa Apartment at an amazing price</td>\n",
       "      <td>271248669</td>\n",
       "      <td>Jenny</td>\n",
       "      <td>Manhattan</td>\n",
       "      <td>Tribeca</td>\n",
       "      <td>40.71206</td>\n",
       "      <td>-74.00999</td>\n",
       "      <td>Entire home/apt</td>\n",
       "      <td>6500</td>\n",
       "      <td>180</td>\n",
       "      <td>0</td>\n",
       "      <td>NaN</td>\n",
       "      <td>NaN</td>\n",
       "      <td>1</td>\n",
       "      <td>365</td>\n",
       "    </tr>\n",
       "    <tr>\n",
       "      <th>16587</th>\n",
       "      <td>31340283</td>\n",
       "      <td>2br - The Heart of NYC: Manhattans Lower East ...</td>\n",
       "      <td>4382127</td>\n",
       "      <td>Matt</td>\n",
       "      <td>Manhattan</td>\n",
       "      <td>Lower East Side</td>\n",
       "      <td>40.71980</td>\n",
       "      <td>-73.98566</td>\n",
       "      <td>Entire home/apt</td>\n",
       "      <td>9999</td>\n",
       "      <td>30</td>\n",
       "      <td>0</td>\n",
       "      <td>NaN</td>\n",
       "      <td>NaN</td>\n",
       "      <td>1</td>\n",
       "      <td>365</td>\n",
       "    </tr>\n",
       "    <tr>\n",
       "      <th>18434</th>\n",
       "      <td>33397385</td>\n",
       "      <td>Midtown Manhattan great location (Gramacy park)</td>\n",
       "      <td>16105313</td>\n",
       "      <td>Debra</td>\n",
       "      <td>Manhattan</td>\n",
       "      <td>Midtown</td>\n",
       "      <td>40.74482</td>\n",
       "      <td>-73.98367</td>\n",
       "      <td>Entire home/apt</td>\n",
       "      <td>5100</td>\n",
       "      <td>30</td>\n",
       "      <td>1</td>\n",
       "      <td>2019-06-22</td>\n",
       "      <td>1.00</td>\n",
       "      <td>2</td>\n",
       "      <td>343</td>\n",
       "    </tr>\n",
       "  </tbody>\n",
       "</table>\n",
       "</div>"
      ],
      "text/plain": [
       "             id                                               name    host_id  \\\n",
       "328     2952861                               Photography Location    1177497   \n",
       "1336   33007610                70' Luxury MotorYacht on the Hudson    7407743   \n",
       "4459   30035166      4-Floor Unique Event Space 50P Cap. - #10299B  172611460   \n",
       "5218    2243699                SuperBowl Penthouse Loft 3,000 sqft    1483320   \n",
       "5764   35345358                     Northside Williamsburg Stunner     956324   \n",
       "7679   33171891  30 days minimum Time square West Midtown apart...  177396569   \n",
       "8388   22779726          East 72nd Townhouse by (Hidden by Airbnb)  156158778   \n",
       "8568   23377410  Beautiful/Spacious 1 bed luxury flat-TriBeCa/Soho   18128455   \n",
       "10024  22436899                                1-BR Lincoln Center   72390391   \n",
       "12579   2271504                   SUPER BOWL Brooklyn Duplex Apt!!   11598359   \n",
       "14537  36056808       Luxury TriBeCa Apartment at an amazing price  271248669   \n",
       "16587  31340283  2br - The Heart of NYC: Manhattans Lower East ...    4382127   \n",
       "18434  33397385    Midtown Manhattan great location (Gramacy park)   16105313   \n",
       "\n",
       "      host_name neighbourhood_group      neighbourhood  latitude  longitude  \\\n",
       "328     Jessica            Brooklyn       Clinton Hill  40.69127  -73.96563   \n",
       "1336       Jack           Manhattan  Battery Park City  40.71162  -74.01693   \n",
       "4459     Rasmus           Manhattan             Harlem  40.82511  -73.94961   \n",
       "5218       Omri           Manhattan       Little Italy  40.71895  -73.99793   \n",
       "5764       Alex            Brooklyn       Williamsburg  40.71705  -73.96470   \n",
       "7679     Yanina           Manhattan     Hell's Kitchen  40.76043  -73.99132   \n",
       "8388      Sally           Manhattan    Upper East Side  40.76824  -73.95989   \n",
       "8568        Rum           Manhattan            Tribeca  40.72197  -74.00633   \n",
       "10024    Jelena           Manhattan    Upper West Side  40.77213  -73.98665   \n",
       "12579  Jonathan            Brooklyn       Clinton Hill  40.68766  -73.96439   \n",
       "14537     Jenny           Manhattan            Tribeca  40.71206  -74.00999   \n",
       "16587      Matt           Manhattan    Lower East Side  40.71980  -73.98566   \n",
       "18434     Debra           Manhattan            Midtown  40.74482  -73.98367   \n",
       "\n",
       "             room_type  price  minimum_nights  number_of_reviews last_review  \\\n",
       "328    Entire home/apt   4500               1                  5  2018-12-29   \n",
       "1336   Entire home/apt   7500               1                  0         NaN   \n",
       "4459   Entire home/apt   5000               1                  2  2019-02-23   \n",
       "5218   Entire home/apt   5250               1                  0         NaN   \n",
       "5764   Entire home/apt   4500              30                  0         NaN   \n",
       "7679   Entire home/apt   4100              30                  0         NaN   \n",
       "8388   Entire home/apt   7703               1                  0         NaN   \n",
       "8568   Entire home/apt   8500              30                  2  2018-09-18   \n",
       "10024  Entire home/apt  10000              30                  0         NaN   \n",
       "12579  Entire home/apt   6500               1                  0         NaN   \n",
       "14537  Entire home/apt   6500             180                  0         NaN   \n",
       "16587  Entire home/apt   9999              30                  0         NaN   \n",
       "18434  Entire home/apt   5100              30                  1  2019-06-22   \n",
       "\n",
       "       reviews_per_month  calculated_host_listings_count  availability_365  \n",
       "328                 0.09                              11               365  \n",
       "1336                 NaN                               1               364  \n",
       "4459                0.38                               2               150  \n",
       "5218                 NaN                               1                 0  \n",
       "5764                 NaN                               1               365  \n",
       "7679                 NaN                               3               180  \n",
       "8388                 NaN                              12               146  \n",
       "8568                0.18                               1               251  \n",
       "10024                NaN                               1                83  \n",
       "12579                NaN                               1                 0  \n",
       "14537                NaN                               1               365  \n",
       "16587                NaN                               1               365  \n",
       "18434               1.00                               2               343  "
      ]
     },
     "execution_count": 58,
     "metadata": {},
     "output_type": "execute_result"
    }
   ],
   "source": [
    "high_price = df[df['price'] > 4000]\n",
    "high_price"
   ]
  },
  {
   "cell_type": "code",
   "execution_count": null,
   "id": "5740f0e9",
   "metadata": {},
   "outputs": [],
   "source": []
  },
  {
   "cell_type": "code",
   "execution_count": null,
   "id": "567fef97",
   "metadata": {
    "ExecuteTime": {
     "end_time": "2022-02-13T03:47:41.926517Z",
     "start_time": "2022-02-13T03:47:41.899881Z"
    }
   },
   "outputs": [],
   "source": [
    " "
   ]
  },
  {
   "cell_type": "markdown",
   "id": "f89aafad",
   "metadata": {},
   "source": [
    "### Minimum Nights Histogram"
   ]
  },
  {
   "cell_type": "code",
   "execution_count": 62,
   "id": "08c3e172",
   "metadata": {
    "ExecuteTime": {
     "end_time": "2022-02-13T17:53:31.200921Z",
     "start_time": "2022-02-13T17:53:30.812930Z"
    }
   },
   "outputs": [
    {
     "name": "stdout",
     "output_type": "stream",
     "text": [
      " Number of datapoints with minimum nights < 365: 19980\n",
      " Number of datapoints with minimum nights = 365: 14\n",
      " Number of datapoints with minimum nights > 365: 6\n"
     ]
    },
    {
     "data": {
      "image/png": "[encoded data removed]",
      "text/plain": [
       "<Figure size 1440x360 with 2 Axes>"
      ]
     },
     "metadata": {
      "needs_background": "light"
     },
     "output_type": "display_data"
    }
   ],
   "source": [
    "fig = plt.figure(figsize=(20,5)) \n",
    "# fig.subplots(1,2)\n",
    "ax = plt.subplot(1,2,1)\n",
    "df['minimum_nights'].plot.hist(title = \"Minimum Nights < 100 \", bins=50, range=(0, 100), ax = ax);\n",
    "ax = plt.subplot(1,2,2)\n",
    "df['minimum_nights'].plot.hist(title = \"Minimum Nights > 100\", bins=50, range=(100, max(df['minimum_nights'])), ax =ax);\n",
    "\n",
    "print(f\" Number of datapoints with minimum nights < 365: {(df['minimum_nights'] < 365).sum()}\")\n",
    "print(f\" Number of datapoints with minimum nights = 365: {(df['minimum_nights'] == 365).sum()}\")\n",
    "print(f\" Number of datapoints with minimum nights > 365: {(df['minimum_nights'] > 365).sum()}\")\n"
   ]
  },
  {
   "cell_type": "code",
   "execution_count": 63,
   "id": "12830583",
   "metadata": {
    "ExecuteTime": {
     "end_time": "2022-02-13T17:55:27.647663Z",
     "start_time": "2022-02-13T17:55:27.623749Z"
    }
   },
   "outputs": [
    {
     "data": {
      "text/html": [
       "<div>\n",
       "<style scoped>\n",
       "    .dataframe tbody tr th:only-of-type {\n",
       "        vertical-align: middle;\n",
       "    }\n",
       "\n",
       "    .dataframe tbody tr th {\n",
       "        vertical-align: top;\n",
       "    }\n",
       "\n",
       "    .dataframe thead th {\n",
       "        text-align: right;\n",
       "    }\n",
       "</style>\n",
       "<table border=\"1\" class=\"dataframe\">\n",
       "  <thead>\n",
       "    <tr style=\"text-align: right;\">\n",
       "      <th></th>\n",
       "      <th>id</th>\n",
       "      <th>name</th>\n",
       "      <th>host_id</th>\n",
       "      <th>host_name</th>\n",
       "      <th>neighbourhood_group</th>\n",
       "      <th>neighbourhood</th>\n",
       "      <th>latitude</th>\n",
       "      <th>longitude</th>\n",
       "      <th>room_type</th>\n",
       "      <th>price</th>\n",
       "      <th>minimum_nights</th>\n",
       "      <th>number_of_reviews</th>\n",
       "      <th>last_review</th>\n",
       "      <th>reviews_per_month</th>\n",
       "      <th>calculated_host_listings_count</th>\n",
       "      <th>availability_365</th>\n",
       "    </tr>\n",
       "  </thead>\n",
       "  <tbody>\n",
       "    <tr>\n",
       "      <th>733</th>\n",
       "      <td>10053943</td>\n",
       "      <td>Historic Designer 2 Bed. Apartment</td>\n",
       "      <td>2697686</td>\n",
       "      <td>Glenn H.</td>\n",
       "      <td>Manhattan</td>\n",
       "      <td>Harlem</td>\n",
       "      <td>40.82915</td>\n",
       "      <td>-73.94034</td>\n",
       "      <td>Entire home/apt</td>\n",
       "      <td>99</td>\n",
       "      <td>999</td>\n",
       "      <td>2</td>\n",
       "      <td>2018-01-04</td>\n",
       "      <td>0.07</td>\n",
       "      <td>1</td>\n",
       "      <td>42</td>\n",
       "    </tr>\n",
       "    <tr>\n",
       "      <th>3000</th>\n",
       "      <td>8341919</td>\n",
       "      <td>Brand New Luxury Apt Lease Takeover</td>\n",
       "      <td>43945071</td>\n",
       "      <td>Shining</td>\n",
       "      <td>Queens</td>\n",
       "      <td>Long Island City</td>\n",
       "      <td>40.74654</td>\n",
       "      <td>-73.95778</td>\n",
       "      <td>Entire home/apt</td>\n",
       "      <td>199</td>\n",
       "      <td>480</td>\n",
       "      <td>0</td>\n",
       "      <td>NaN</td>\n",
       "      <td>NaN</td>\n",
       "      <td>1</td>\n",
       "      <td>365</td>\n",
       "    </tr>\n",
       "    <tr>\n",
       "      <th>8981</th>\n",
       "      <td>30378211</td>\n",
       "      <td>Shared Studio (females only)</td>\n",
       "      <td>200401254</td>\n",
       "      <td>Meg</td>\n",
       "      <td>Manhattan</td>\n",
       "      <td>Greenwich Village</td>\n",
       "      <td>40.73094</td>\n",
       "      <td>-73.99900</td>\n",
       "      <td>Shared room</td>\n",
       "      <td>110</td>\n",
       "      <td>999</td>\n",
       "      <td>0</td>\n",
       "      <td>NaN</td>\n",
       "      <td>NaN</td>\n",
       "      <td>1</td>\n",
       "      <td>365</td>\n",
       "    </tr>\n",
       "    <tr>\n",
       "      <th>12174</th>\n",
       "      <td>4204302</td>\n",
       "      <td>Prime W. Village location 1 bdrm</td>\n",
       "      <td>17550546</td>\n",
       "      <td>Genevieve</td>\n",
       "      <td>Manhattan</td>\n",
       "      <td>Greenwich Village</td>\n",
       "      <td>40.73293</td>\n",
       "      <td>-73.99782</td>\n",
       "      <td>Entire home/apt</td>\n",
       "      <td>180</td>\n",
       "      <td>1250</td>\n",
       "      <td>2</td>\n",
       "      <td>2014-11-09</td>\n",
       "      <td>0.03</td>\n",
       "      <td>1</td>\n",
       "      <td>365</td>\n",
       "    </tr>\n",
       "    <tr>\n",
       "      <th>13116</th>\n",
       "      <td>568684</td>\n",
       "      <td>800sqft apartment with huge terrace</td>\n",
       "      <td>2798644</td>\n",
       "      <td>Alessandra</td>\n",
       "      <td>Brooklyn</td>\n",
       "      <td>Bushwick</td>\n",
       "      <td>40.70202</td>\n",
       "      <td>-73.92402</td>\n",
       "      <td>Entire home/apt</td>\n",
       "      <td>115</td>\n",
       "      <td>370</td>\n",
       "      <td>6</td>\n",
       "      <td>2018-04-15</td>\n",
       "      <td>0.09</td>\n",
       "      <td>1</td>\n",
       "      <td>365</td>\n",
       "    </tr>\n",
       "    <tr>\n",
       "      <th>17920</th>\n",
       "      <td>27362309</td>\n",
       "      <td>Not available</td>\n",
       "      <td>14621589</td>\n",
       "      <td>Sol</td>\n",
       "      <td>Brooklyn</td>\n",
       "      <td>Bedford-Stuyvesant</td>\n",
       "      <td>40.69974</td>\n",
       "      <td>-73.94658</td>\n",
       "      <td>Private room</td>\n",
       "      <td>50</td>\n",
       "      <td>400</td>\n",
       "      <td>0</td>\n",
       "      <td>NaN</td>\n",
       "      <td>NaN</td>\n",
       "      <td>1</td>\n",
       "      <td>90</td>\n",
       "    </tr>\n",
       "  </tbody>\n",
       "</table>\n",
       "</div>"
      ],
      "text/plain": [
       "             id                                 name    host_id   host_name  \\\n",
       "733    10053943   Historic Designer 2 Bed. Apartment    2697686    Glenn H.   \n",
       "3000    8341919  Brand New Luxury Apt Lease Takeover   43945071     Shining   \n",
       "8981   30378211         Shared Studio (females only)  200401254         Meg   \n",
       "12174   4204302     Prime W. Village location 1 bdrm   17550546   Genevieve   \n",
       "13116    568684  800sqft apartment with huge terrace    2798644  Alessandra   \n",
       "17920  27362309                        Not available   14621589         Sol   \n",
       "\n",
       "      neighbourhood_group       neighbourhood  latitude  longitude  \\\n",
       "733             Manhattan              Harlem  40.82915  -73.94034   \n",
       "3000               Queens    Long Island City  40.74654  -73.95778   \n",
       "8981            Manhattan   Greenwich Village  40.73094  -73.99900   \n",
       "12174           Manhattan   Greenwich Village  40.73293  -73.99782   \n",
       "13116            Brooklyn            Bushwick  40.70202  -73.92402   \n",
       "17920            Brooklyn  Bedford-Stuyvesant  40.69974  -73.94658   \n",
       "\n",
       "             room_type  price  minimum_nights  number_of_reviews last_review  \\\n",
       "733    Entire home/apt     99             999                  2  2018-01-04   \n",
       "3000   Entire home/apt    199             480                  0         NaN   \n",
       "8981       Shared room    110             999                  0         NaN   \n",
       "12174  Entire home/apt    180            1250                  2  2014-11-09   \n",
       "13116  Entire home/apt    115             370                  6  2018-04-15   \n",
       "17920     Private room     50             400                  0         NaN   \n",
       "\n",
       "       reviews_per_month  calculated_host_listings_count  availability_365  \n",
       "733                 0.07                               1                42  \n",
       "3000                 NaN                               1               365  \n",
       "8981                 NaN                               1               365  \n",
       "12174               0.03                               1               365  \n",
       "13116               0.09                               1               365  \n",
       "17920                NaN                               1                90  "
      ]
     },
     "execution_count": 63,
     "metadata": {},
     "output_type": "execute_result"
    }
   ],
   "source": [
    "unusual_min_nights = df[df['minimum_nights'] > 365]\n",
    "unusual_min_nights"
   ]
  },
  {
   "cell_type": "markdown",
   "id": "8fb9454a",
   "metadata": {},
   "source": [
    "###  Remove Price Outliers from raw dataset"
   ]
  },
  {
   "cell_type": "code",
   "execution_count": 21,
   "id": "90b1b604",
   "metadata": {
    "ExecuteTime": {
     "end_time": "2022-02-14T23:02:23.581473Z",
     "start_time": "2022-02-14T23:02:23.536297Z"
    }
   },
   "outputs": [
    {
     "name": "stdout",
     "output_type": "stream",
     "text": [
      "0        True\n",
      "1        True\n",
      "2        True\n",
      "3        True\n",
      "4        True\n",
      "         ... \n",
      "19995    True\n",
      "19996    True\n",
      "19997    True\n",
      "19998    True\n",
      "19999    True\n",
      "Name: price, Length: 20000, dtype: bool\n",
      "19001\n"
     ]
    },
    {
     "ename": "AttributeError",
     "evalue": "'Series' object has no attribute 'columns'",
     "output_type": "error",
     "traceback": [
      "\u001b[0;31m---------------------------------------------------------------------------\u001b[0m",
      "\u001b[0;31mAttributeError\u001b[0m                            Traceback (most recent call last)",
      "Input \u001b[0;32mIn [21]\u001b[0m, in \u001b[0;36m<module>\u001b[0;34m\u001b[0m\n\u001b[1;32m      5\u001b[0m \u001b[38;5;28mprint\u001b[39m(df[\u001b[38;5;124m'\u001b[39m\u001b[38;5;124mprice\u001b[39m\u001b[38;5;124m'\u001b[39m]\u001b[38;5;241m.\u001b[39mbetween(min_price, max_price)\u001b[38;5;241m.\u001b[39msum())\n\u001b[1;32m      6\u001b[0m \u001b[38;5;66;03m# print((df['price'].between(min_price, max_price) != True).count())\u001b[39;00m\n\u001b[0;32m----> 7\u001b[0m \u001b[43midx\u001b[49m\u001b[38;5;241;43m.\u001b[39;49m\u001b[43mcolumns\u001b[49m\n",
      "File \u001b[0;32m~/miniconda3/envs/mlflow-8af91d08d13566aada991fdb38ca18c4510876b2/lib/python3.9/site-packages/pandas/core/generic.py:5465\u001b[0m, in \u001b[0;36mNDFrame.__getattr__\u001b[0;34m(self, name)\u001b[0m\n\u001b[1;32m   5463\u001b[0m \u001b[38;5;28;01mif\u001b[39;00m \u001b[38;5;28mself\u001b[39m\u001b[38;5;241m.\u001b[39m_info_axis\u001b[38;5;241m.\u001b[39m_can_hold_identifiers_and_holds_name(name):\n\u001b[1;32m   5464\u001b[0m     \u001b[38;5;28;01mreturn\u001b[39;00m \u001b[38;5;28mself\u001b[39m[name]\n\u001b[0;32m-> 5465\u001b[0m \u001b[38;5;28;01mreturn\u001b[39;00m \u001b[38;5;28;43mobject\u001b[39;49m\u001b[38;5;241;43m.\u001b[39;49m\u001b[38;5;21;43m__getattribute__\u001b[39;49m\u001b[43m(\u001b[49m\u001b[38;5;28;43mself\u001b[39;49m\u001b[43m,\u001b[49m\u001b[43m \u001b[49m\u001b[43mname\u001b[49m\u001b[43m)\u001b[49m\n",
      "\u001b[0;31mAttributeError\u001b[0m: 'Series' object has no attribute 'columns'"
     ]
    }
   ],
   "source": [
    "min_price = 10\n",
    "max_price = 350\n",
    "idx = df['price'].between(min_price, max_price)\n",
    "print(idx)\n",
    "print(df['price'].between(min_price, max_price).sum())\n",
    "# print((df['price'].between(min_price, max_price) != True).count())"
   ]
  },
  {
   "cell_type": "code",
   "execution_count": 7,
   "id": "7453b91c",
   "metadata": {
    "ExecuteTime": {
     "end_time": "2022-02-14T22:57:22.253705Z",
     "start_time": "2022-02-14T22:57:22.237119Z"
    }
   },
   "outputs": [
    {
     "data": {
      "text/plain": [
       "(19001, 16)"
      ]
     },
     "execution_count": 7,
     "metadata": {},
     "output_type": "execute_result"
    }
   ],
   "source": [
    "## \n",
    "df1 = df[idx].copy()\n",
    "\n",
    "df1.shape"
   ]
  },
  {
   "cell_type": "code",
   "execution_count": 32,
   "id": "fe40f4d9",
   "metadata": {
    "ExecuteTime": {
     "end_time": "2022-02-14T23:10:13.824636Z",
     "start_time": "2022-02-14T23:10:13.803726Z"
    }
   },
   "outputs": [
    {
     "name": "stdout",
     "output_type": "stream",
     "text": [
      "all is good (19001, 16) False\n",
      "all is good (19001, 16) True\n"
     ]
    }
   ],
   "source": [
    "if (df1['price'].between(min_price, max_price).all() == True):\n",
    "    print('all is good', df[df['price'].between(min_price, max_price)].shape, df['price'].between(min_price, max_price).all())\n",
    "    print('all is good', df1[df1['price'].between(min_price, max_price)].shape, df1['price'].between(min_price, max_price).all())\n",
    "else:\n",
    "    print('all is not good')"
   ]
  },
  {
   "cell_type": "markdown",
   "id": "d2b68c5a",
   "metadata": {},
   "source": [
    "### Convert `last_review` from string to datetime "
   ]
  },
  {
   "cell_type": "code",
   "execution_count": 70,
   "id": "26aa691a",
   "metadata": {
    "ExecuteTime": {
     "end_time": "2022-02-13T18:26:28.756112Z",
     "start_time": "2022-02-13T18:26:28.747379Z"
    }
   },
   "outputs": [],
   "source": [
    "df2 = df1.copy()"
   ]
  },
  {
   "cell_type": "code",
   "execution_count": 71,
   "id": "7eef9745",
   "metadata": {
    "ExecuteTime": {
     "end_time": "2022-02-13T18:27:05.937312Z",
     "start_time": "2022-02-13T18:27:05.920586Z"
    }
   },
   "outputs": [],
   "source": [
    "df2['last_review'] = pd.to_datetime(df['last_review'])"
   ]
  },
  {
   "cell_type": "code",
   "execution_count": 72,
   "id": "c6d6d486",
   "metadata": {
    "ExecuteTime": {
     "end_time": "2022-02-13T18:27:13.414885Z",
     "start_time": "2022-02-13T18:27:13.377816Z"
    }
   },
   "outputs": [
    {
     "data": {
      "text/html": [
       "<div>\n",
       "<style scoped>\n",
       "    .dataframe tbody tr th:only-of-type {\n",
       "        vertical-align: middle;\n",
       "    }\n",
       "\n",
       "    .dataframe tbody tr th {\n",
       "        vertical-align: top;\n",
       "    }\n",
       "\n",
       "    .dataframe thead th {\n",
       "        text-align: right;\n",
       "    }\n",
       "</style>\n",
       "<table border=\"1\" class=\"dataframe\">\n",
       "  <thead>\n",
       "    <tr style=\"text-align: right;\">\n",
       "      <th></th>\n",
       "      <th>id</th>\n",
       "      <th>name</th>\n",
       "      <th>host_id</th>\n",
       "      <th>host_name</th>\n",
       "      <th>neighbourhood_group</th>\n",
       "      <th>neighbourhood</th>\n",
       "      <th>latitude</th>\n",
       "      <th>longitude</th>\n",
       "      <th>room_type</th>\n",
       "      <th>price</th>\n",
       "      <th>minimum_nights</th>\n",
       "      <th>number_of_reviews</th>\n",
       "      <th>last_review</th>\n",
       "      <th>reviews_per_month</th>\n",
       "      <th>calculated_host_listings_count</th>\n",
       "      <th>availability_365</th>\n",
       "    </tr>\n",
       "  </thead>\n",
       "  <tbody>\n",
       "    <tr>\n",
       "      <th>0</th>\n",
       "      <td>9138664</td>\n",
       "      <td>Private Lg Room 15 min to Manhattan</td>\n",
       "      <td>47594947</td>\n",
       "      <td>Iris</td>\n",
       "      <td>Queens</td>\n",
       "      <td>Sunnyside</td>\n",
       "      <td>40.74271</td>\n",
       "      <td>-73.92493</td>\n",
       "      <td>Private room</td>\n",
       "      <td>74</td>\n",
       "      <td>2</td>\n",
       "      <td>6</td>\n",
       "      <td>2019-05-26</td>\n",
       "      <td>0.13</td>\n",
       "      <td>1</td>\n",
       "      <td>5</td>\n",
       "    </tr>\n",
       "    <tr>\n",
       "      <th>1</th>\n",
       "      <td>31444015</td>\n",
       "      <td>TIME SQUARE CHARMING ONE BED IN HELL'S KITCHEN...</td>\n",
       "      <td>8523790</td>\n",
       "      <td>Johlex</td>\n",
       "      <td>Manhattan</td>\n",
       "      <td>Hell's Kitchen</td>\n",
       "      <td>40.76682</td>\n",
       "      <td>-73.98878</td>\n",
       "      <td>Entire home/apt</td>\n",
       "      <td>170</td>\n",
       "      <td>3</td>\n",
       "      <td>0</td>\n",
       "      <td>NaT</td>\n",
       "      <td>NaN</td>\n",
       "      <td>1</td>\n",
       "      <td>188</td>\n",
       "    </tr>\n",
       "    <tr>\n",
       "      <th>2</th>\n",
       "      <td>8741020</td>\n",
       "      <td>Voted #1 Location Quintessential 1BR W Village...</td>\n",
       "      <td>45854238</td>\n",
       "      <td>John</td>\n",
       "      <td>Manhattan</td>\n",
       "      <td>West Village</td>\n",
       "      <td>40.73631</td>\n",
       "      <td>-74.00611</td>\n",
       "      <td>Entire home/apt</td>\n",
       "      <td>245</td>\n",
       "      <td>3</td>\n",
       "      <td>51</td>\n",
       "      <td>2018-09-19</td>\n",
       "      <td>1.12</td>\n",
       "      <td>1</td>\n",
       "      <td>0</td>\n",
       "    </tr>\n",
       "    <tr>\n",
       "      <th>3</th>\n",
       "      <td>34602077</td>\n",
       "      <td>Spacious 1 bedroom apartment 15min from Manhattan</td>\n",
       "      <td>261055465</td>\n",
       "      <td>Regan</td>\n",
       "      <td>Queens</td>\n",
       "      <td>Astoria</td>\n",
       "      <td>40.76424</td>\n",
       "      <td>-73.92351</td>\n",
       "      <td>Entire home/apt</td>\n",
       "      <td>125</td>\n",
       "      <td>3</td>\n",
       "      <td>1</td>\n",
       "      <td>2019-05-24</td>\n",
       "      <td>0.65</td>\n",
       "      <td>1</td>\n",
       "      <td>13</td>\n",
       "    </tr>\n",
       "    <tr>\n",
       "      <th>4</th>\n",
       "      <td>23203149</td>\n",
       "      <td>Big beautiful bedroom in huge Bushwick apartment</td>\n",
       "      <td>143460</td>\n",
       "      <td>Megan</td>\n",
       "      <td>Brooklyn</td>\n",
       "      <td>Bushwick</td>\n",
       "      <td>40.69839</td>\n",
       "      <td>-73.92044</td>\n",
       "      <td>Private room</td>\n",
       "      <td>65</td>\n",
       "      <td>2</td>\n",
       "      <td>8</td>\n",
       "      <td>2019-06-23</td>\n",
       "      <td>0.52</td>\n",
       "      <td>2</td>\n",
       "      <td>8</td>\n",
       "    </tr>\n",
       "  </tbody>\n",
       "</table>\n",
       "</div>"
      ],
      "text/plain": [
       "         id                                               name    host_id  \\\n",
       "0   9138664                Private Lg Room 15 min to Manhattan   47594947   \n",
       "1  31444015  TIME SQUARE CHARMING ONE BED IN HELL'S KITCHEN...    8523790   \n",
       "2   8741020  Voted #1 Location Quintessential 1BR W Village...   45854238   \n",
       "3  34602077  Spacious 1 bedroom apartment 15min from Manhattan  261055465   \n",
       "4  23203149   Big beautiful bedroom in huge Bushwick apartment     143460   \n",
       "\n",
       "  host_name neighbourhood_group   neighbourhood  latitude  longitude  \\\n",
       "0      Iris              Queens       Sunnyside  40.74271  -73.92493   \n",
       "1    Johlex           Manhattan  Hell's Kitchen  40.76682  -73.98878   \n",
       "2      John           Manhattan    West Village  40.73631  -74.00611   \n",
       "3     Regan              Queens         Astoria  40.76424  -73.92351   \n",
       "4     Megan            Brooklyn        Bushwick  40.69839  -73.92044   \n",
       "\n",
       "         room_type  price  minimum_nights  number_of_reviews last_review  \\\n",
       "0     Private room     74               2                  6  2019-05-26   \n",
       "1  Entire home/apt    170               3                  0         NaT   \n",
       "2  Entire home/apt    245               3                 51  2018-09-19   \n",
       "3  Entire home/apt    125               3                  1  2019-05-24   \n",
       "4     Private room     65               2                  8  2019-06-23   \n",
       "\n",
       "   reviews_per_month  calculated_host_listings_count  availability_365  \n",
       "0               0.13                               1                 5  \n",
       "1                NaN                               1               188  \n",
       "2               1.12                               1                 0  \n",
       "3               0.65                               1                13  \n",
       "4               0.52                               2                 8  "
      ]
     },
     "execution_count": 72,
     "metadata": {},
     "output_type": "execute_result"
    }
   ],
   "source": [
    "df2.head()"
   ]
  },
  {
   "cell_type": "markdown",
   "id": "cbf7c548",
   "metadata": {},
   "source": [
    "We notice the there is a one to one match between rows that have last_review and reviews_per_month"
   ]
  },
  {
   "cell_type": "code",
   "execution_count": 88,
   "id": "381d9df2",
   "metadata": {
    "ExecuteTime": {
     "end_time": "2022-02-13T18:39:10.976954Z",
     "start_time": "2022-02-13T18:39:10.755959Z"
    }
   },
   "outputs": [
    {
     "name": "stdout",
     "output_type": "stream",
     "text": [
      "Rows with last_review NaT       :  3758\n",
      "Rows with reviews_per_month NaN :  3758\n",
      "Rows with both last_review AND reviews_per_month NaN :  3758\n"
     ]
    }
   ],
   "source": [
    "print(\"Rows with last_review NaT       : \",pd.isna(df2['last_review']).sum())\n",
    "print(\"Rows with reviews_per_month NaN : \",pd.isna(df2['reviews_per_month']).sum())\n",
    "\n",
    "count_apply = df2.apply(lambda x: True if pd.isna(x['last_review']) and pd.isna(x['reviews_per_month']) else False, axis =1)\n",
    "print(\"Rows with both last_review AND reviews_per_month NaN : \", count_apply.sum())"
   ]
  },
  {
   "cell_type": "markdown",
   "id": "5045e223",
   "metadata": {},
   "source": [
    "We note that `name` , `host_name`, `last_reviews` and `reviews_per_month` contain null values. We will impute values for these in the inference pipeline"
   ]
  },
  {
   "cell_type": "code",
   "execution_count": 93,
   "id": "62f7048b",
   "metadata": {
    "ExecuteTime": {
     "end_time": "2022-02-13T18:51:23.626194Z",
     "start_time": "2022-02-13T18:51:23.595648Z"
    }
   },
   "outputs": [
    {
     "name": "stdout",
     "output_type": "stream",
     "text": [
      "<class 'pandas.core.frame.DataFrame'>\n",
      "Int64Index: 19001 entries, 0 to 19999\n",
      "Data columns (total 16 columns):\n",
      " #   Column                          Non-Null Count  Dtype         \n",
      "---  ------                          --------------  -----         \n",
      " 0   id                              19001 non-null  int64         \n",
      " 1   name                            18994 non-null  object        \n",
      " 2   host_id                         19001 non-null  int64         \n",
      " 3   host_name                       18993 non-null  object        \n",
      " 4   neighbourhood_group             19001 non-null  object        \n",
      " 5   neighbourhood                   19001 non-null  object        \n",
      " 6   latitude                        19001 non-null  float64       \n",
      " 7   longitude                       19001 non-null  float64       \n",
      " 8   room_type                       19001 non-null  object        \n",
      " 9   price                           19001 non-null  int64         \n",
      " 10  minimum_nights                  19001 non-null  int64         \n",
      " 11  number_of_reviews               19001 non-null  int64         \n",
      " 12  last_review                     15243 non-null  datetime64[ns]\n",
      " 13  reviews_per_month               15243 non-null  float64       \n",
      " 14  calculated_host_listings_count  19001 non-null  int64         \n",
      " 15  availability_365                19001 non-null  int64         \n",
      "dtypes: datetime64[ns](1), float64(3), int64(7), object(5)\n",
      "memory usage: 2.5+ MB\n"
     ]
    }
   ],
   "source": [
    "df2.info()"
   ]
  },
  {
   "cell_type": "markdown",
   "id": "837b3e6a",
   "metadata": {},
   "source": [
    "### Finish WandB run"
   ]
  },
  {
   "cell_type": "code",
   "execution_count": 94,
   "id": "9360169d",
   "metadata": {
    "ExecuteTime": {
     "end_time": "2022-02-13T19:09:54.192234Z",
     "start_time": "2022-02-13T19:09:49.835467Z"
    }
   },
   "outputs": [
    {
     "data": {
      "text/html": [
       "<br/>Waiting for W&B process to finish, PID 15914<br/>Program ended successfully."
      ],
      "text/plain": [
       "<IPython.core.display.HTML object>"
      ]
     },
     "metadata": {},
     "output_type": "display_data"
    },
    {
     "data": {
      "application/vnd.jupyter.widget-view+json": {
       "model_id": "",
       "version_major": 2,
       "version_minor": 0
      },
      "text/plain": [
       "VBox(children=(Label(value=' 0.00MB of 0.00MB uploaded (0.00MB deduped)\\r'), FloatProgress(value=1.0, max=1.0)…"
      ]
     },
     "metadata": {},
     "output_type": "display_data"
    },
    {
     "data": {
      "text/html": [
       "Find user logs for this run at: <code>/home/kbardool/git-local/mlops/p2/src/eda/wandb/run-20220212_175511-3rhd5qdm/logs/debug.log</code>"
      ],
      "text/plain": [
       "<IPython.core.display.HTML object>"
      ]
     },
     "metadata": {},
     "output_type": "display_data"
    },
    {
     "data": {
      "text/html": [
       "Find internal logs for this run at: <code>/home/kbardool/git-local/mlops/p2/src/eda/wandb/run-20220212_175511-3rhd5qdm/logs/debug-internal.log</code>"
      ],
      "text/plain": [
       "<IPython.core.display.HTML object>"
      ]
     },
     "metadata": {},
     "output_type": "display_data"
    },
    {
     "data": {
      "text/html": [
       "Synced 7 W&B file(s), 0 media file(s), 0 artifact file(s) and 1 other file(s)"
      ],
      "text/plain": [
       "<IPython.core.display.HTML object>"
      ]
     },
     "metadata": {},
     "output_type": "display_data"
    },
    {
     "data": {
      "text/html": [
       "\n",
       "                    <br/>Synced <strong style=\"color:#cdcd00\">bumbling-cherry-11</strong>: <a href=\"https://wandb.ai/kbardool/nyc_airbnb/runs/3rhd5qdm\" target=\"_blank\">https://wandb.ai/kbardool/nyc_airbnb/runs/3rhd5qdm</a><br/>\n",
       "                "
      ],
      "text/plain": [
       "<IPython.core.display.HTML object>"
      ]
     },
     "metadata": {},
     "output_type": "display_data"
    }
   ],
   "source": [
    "run.finish()\n"
   ]
  },
  {
   "cell_type": "code",
   "execution_count": null,
   "id": "0fd3b8f2",
   "metadata": {},
   "outputs": [],
   "source": []
  }
 ],
 "metadata": {
  "kernelspec": {
   "display_name": "Python [conda env:ml_p2]",
   "language": "python",
   "name": "conda-env-ml_p2-py"
  },
  "language_info": {
   "codemirror_mode": {
    "name": "ipython",
    "version": 3
   },
   "file_extension": ".py",
   "mimetype": "text/x-python",
   "name": "python",
   "nbconvert_exporter": "python",
   "pygments_lexer": "ipython3",
   "version": "3.9.10"
  },
  "toc": {
   "base_numbering": 1,
   "nav_menu": {},
   "number_sections": true,
   "sideBar": true,
   "skip_h1_title": false,
   "title_cell": "Table of Contents",
   "title_sidebar": "Contents",
   "toc_cell": false,
   "toc_position": {},
   "toc_section_display": true,
   "toc_window_display": false
  }
 },
 "nbformat": 4,
 "nbformat_minor": 5
}
